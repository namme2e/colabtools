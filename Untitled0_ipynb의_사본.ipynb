{
  "nbformat": 4,
  "nbformat_minor": 0,
  "metadata": {
    "colab": {
      "provenance": [],
      "authorship_tag": "ABX9TyMewRe+Ae0JQoHePuSzYV3Y",
      "include_colab_link": true
    },
    "kernelspec": {
      "name": "python3",
      "display_name": "Python 3"
    },
    "language_info": {
      "name": "python"
    }
  },
  "cells": [
    {
      "cell_type": "markdown",
      "metadata": {
        "id": "view-in-github",
        "colab_type": "text"
      },
      "source": [
        "<a href=\"https://colab.research.google.com/github/namme2e/colabtools/blob/main/Untitled0_ipynb%EC%9D%98_%EC%82%AC%EB%B3%B8.ipynb\" target=\"_parent\"><img src=\"https://colab.research.google.com/assets/colab-badge.svg\" alt=\"Open In Colab\"/></a>"
      ]
    },
    {
      "cell_type": "code",
      "execution_count": null,
      "metadata": {
        "id": "i2oSBo14kYD_"
      },
      "outputs": [],
      "source": [
        "import pandas as pd\n",
        "from sklearn.model_selection import train_test_split\n",
        "from sklearn.linear_model import LogisticRegression\n",
        "from sklearn.metrics import accuracy_score, classification_report, confusion_matrix\n",
        "\n",
        "# 예제 데이터 생성\n",
        "data = {\n",
        "    '광고_유형': ['텍스트', '이미지', '동영상', '텍스트', '이미지'],\n",
        "    '광고_길이': [30, 20, 60, 25, 15],\n",
        "    '사용자_연령': [25, 30, 35, 28, 32],\n",
        "    '성별': ['남', '여', '여', '남', '여'],\n",
        "    '클릭_여부': [1, 0, 1, 0, 1]  # 1: 클릭, 0: 클릭하지 않음\n",
        "}\n",
        "\n",
        "df = pd.DataFrame(data)\n",
        "\n",
        "# 범주형 변수 더미화\n",
        "df = pd.get_dummies(df, columns=['광고_유형', '성별'])\n",
        "\n",
        "# 입력 변수(X)와 목표 변수(y) 분리\n",
        "X = df.drop('클릭_여부', axis=1)\n",
        "y = df['클릭_여부']\n",
        "\n",
        "# 데이터를 학습용과 테스트용으로 분리\n",
        "X_train, X_test, y_train, y_test = train_test_split(X, y, test_size=0.2, random_state=42)\n",
        "\n",
        "# 로지스틱 회귀모델 초기화 및 학습\n",
        "model = LogisticRegression()\n",
        "model.fit(X_train, y_train)\n",
        "\n",
        "# 테스트 데이터로 예측\n",
        "y_pred = model.predict(X_test)\n",
        "\n",
        "# 정확도 평가\n",
        "accuracy = accuracy_score(y_test, y_pred)\n",
        "print(f'정확도: {accuracy:.2f}')\n",
        "\n",
        "# 분류 보고서 출력\n",
        "print(classification_report(y_test, y_pred))\n",
        "\n",
        "# 혼동 행렬 출력\n",
        "print('혼동 행렬:')\n",
        "print(confusion_matrix(y_test, y_pred))\n"
      ]
    }
  ]
}